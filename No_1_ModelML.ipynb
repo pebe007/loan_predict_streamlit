{
 "cells": [
  {
   "cell_type": "markdown",
   "id": "6b237081",
   "metadata": {},
   "source": [
    "[LO 1, LO 2 – 30 Poin] Buatlah model machine learning yang berisi proses pre-processing machine \n",
    "learning, training, dan hasil dari perbadingan 2 algoritma machine learning yaitu Random Forest dan \n",
    "Xgboost. Ambil algoritma terbaik dan simpan dengan menggunakan pickle. Seluruh proses disimpan \n",
    "dengan extension .ipynb"
   ]
  },
  {
   "cell_type": "code",
   "execution_count": 22,
   "id": "056d801c",
   "metadata": {},
   "outputs": [],
   "source": [
    "# 1. Import libraries\n",
    "import pandas as pd\n",
    "import numpy as np\n",
    "from sklearn.model_selection import train_test_split, GridSearchCV\n",
    "from sklearn.preprocessing import LabelEncoder, StandardScaler\n",
    "from sklearn.ensemble import RandomForestClassifier\n",
    "from xgboost import XGBClassifier\n",
    "from sklearn.metrics import classification_report, accuracy_score\n",
    "from scipy.stats import zscore\n",
    "import warnings\n",
    "warnings.filterwarnings(\"ignore\")\n"
   ]
  },
  {
   "cell_type": "code",
   "execution_count": null,
   "id": "b3ba4365",
   "metadata": {},
   "outputs": [
    {
     "data": {
      "text/html": [
       "<div>\n",
       "<style scoped>\n",
       "    .dataframe tbody tr th:only-of-type {\n",
       "        vertical-align: middle;\n",
       "    }\n",
       "\n",
       "    .dataframe tbody tr th {\n",
       "        vertical-align: top;\n",
       "    }\n",
       "\n",
       "    .dataframe thead th {\n",
       "        text-align: right;\n",
       "    }\n",
       "</style>\n",
       "<table border=\"1\" class=\"dataframe\">\n",
       "  <thead>\n",
       "    <tr style=\"text-align: right;\">\n",
       "      <th></th>\n",
       "      <th>person_age</th>\n",
       "      <th>person_gender</th>\n",
       "      <th>person_education</th>\n",
       "      <th>person_income</th>\n",
       "      <th>person_emp_exp</th>\n",
       "      <th>person_home_ownership</th>\n",
       "      <th>loan_amnt</th>\n",
       "      <th>loan_intent</th>\n",
       "      <th>loan_int_rate</th>\n",
       "      <th>loan_percent_income</th>\n",
       "      <th>cb_person_cred_hist_length</th>\n",
       "      <th>credit_score</th>\n",
       "      <th>previous_loan_defaults_on_file</th>\n",
       "      <th>loan_status</th>\n",
       "    </tr>\n",
       "  </thead>\n",
       "  <tbody>\n",
       "    <tr>\n",
       "      <th>0</th>\n",
       "      <td>22.0</td>\n",
       "      <td>female</td>\n",
       "      <td>Master</td>\n",
       "      <td>71948.0</td>\n",
       "      <td>0</td>\n",
       "      <td>RENT</td>\n",
       "      <td>35000.0</td>\n",
       "      <td>PERSONAL</td>\n",
       "      <td>16.02</td>\n",
       "      <td>0.49</td>\n",
       "      <td>3.0</td>\n",
       "      <td>561</td>\n",
       "      <td>No</td>\n",
       "      <td>1</td>\n",
       "    </tr>\n",
       "    <tr>\n",
       "      <th>1</th>\n",
       "      <td>21.0</td>\n",
       "      <td>female</td>\n",
       "      <td>High School</td>\n",
       "      <td>12282.0</td>\n",
       "      <td>0</td>\n",
       "      <td>OWN</td>\n",
       "      <td>1000.0</td>\n",
       "      <td>EDUCATION</td>\n",
       "      <td>11.14</td>\n",
       "      <td>0.08</td>\n",
       "      <td>2.0</td>\n",
       "      <td>504</td>\n",
       "      <td>Yes</td>\n",
       "      <td>0</td>\n",
       "    </tr>\n",
       "    <tr>\n",
       "      <th>2</th>\n",
       "      <td>25.0</td>\n",
       "      <td>female</td>\n",
       "      <td>High School</td>\n",
       "      <td>12438.0</td>\n",
       "      <td>3</td>\n",
       "      <td>MORTGAGE</td>\n",
       "      <td>5500.0</td>\n",
       "      <td>MEDICAL</td>\n",
       "      <td>12.87</td>\n",
       "      <td>0.44</td>\n",
       "      <td>3.0</td>\n",
       "      <td>635</td>\n",
       "      <td>No</td>\n",
       "      <td>1</td>\n",
       "    </tr>\n",
       "    <tr>\n",
       "      <th>3</th>\n",
       "      <td>23.0</td>\n",
       "      <td>female</td>\n",
       "      <td>Bachelor</td>\n",
       "      <td>79753.0</td>\n",
       "      <td>0</td>\n",
       "      <td>RENT</td>\n",
       "      <td>35000.0</td>\n",
       "      <td>MEDICAL</td>\n",
       "      <td>15.23</td>\n",
       "      <td>0.44</td>\n",
       "      <td>2.0</td>\n",
       "      <td>675</td>\n",
       "      <td>No</td>\n",
       "      <td>1</td>\n",
       "    </tr>\n",
       "    <tr>\n",
       "      <th>4</th>\n",
       "      <td>24.0</td>\n",
       "      <td>male</td>\n",
       "      <td>Master</td>\n",
       "      <td>66135.0</td>\n",
       "      <td>1</td>\n",
       "      <td>RENT</td>\n",
       "      <td>35000.0</td>\n",
       "      <td>MEDICAL</td>\n",
       "      <td>14.27</td>\n",
       "      <td>0.53</td>\n",
       "      <td>4.0</td>\n",
       "      <td>586</td>\n",
       "      <td>No</td>\n",
       "      <td>1</td>\n",
       "    </tr>\n",
       "  </tbody>\n",
       "</table>\n",
       "</div>"
      ],
      "text/plain": [
       "   person_age person_gender person_education  person_income  person_emp_exp  \\\n",
       "0        22.0        female           Master        71948.0               0   \n",
       "1        21.0        female      High School        12282.0               0   \n",
       "2        25.0        female      High School        12438.0               3   \n",
       "3        23.0        female         Bachelor        79753.0               0   \n",
       "4        24.0          male           Master        66135.0               1   \n",
       "\n",
       "  person_home_ownership  loan_amnt loan_intent  loan_int_rate  \\\n",
       "0                  RENT    35000.0    PERSONAL          16.02   \n",
       "1                   OWN     1000.0   EDUCATION          11.14   \n",
       "2              MORTGAGE     5500.0     MEDICAL          12.87   \n",
       "3                  RENT    35000.0     MEDICAL          15.23   \n",
       "4                  RENT    35000.0     MEDICAL          14.27   \n",
       "\n",
       "   loan_percent_income  cb_person_cred_hist_length  credit_score  \\\n",
       "0                 0.49                         3.0           561   \n",
       "1                 0.08                         2.0           504   \n",
       "2                 0.44                         3.0           635   \n",
       "3                 0.44                         2.0           675   \n",
       "4                 0.53                         4.0           586   \n",
       "\n",
       "  previous_loan_defaults_on_file  loan_status  \n",
       "0                             No            1  \n",
       "1                            Yes            0  \n",
       "2                             No            1  \n",
       "3                             No            1  \n",
       "4                             No            1  "
      ]
     },
     "execution_count": 23,
     "metadata": {},
     "output_type": "execute_result"
    }
   ],
   "source": [
    "# membaca dataset \n",
    "df = pd.read_csv(\"Dataset_A_loan.csv\")\n",
    "df.head()"
   ]
  },
  {
   "cell_type": "code",
   "execution_count": null,
   "id": "2d753611",
   "metadata": {},
   "outputs": [
    {
     "name": "stdout",
     "output_type": "stream",
     "text": [
      "<class 'pandas.core.frame.DataFrame'>\n",
      "RangeIndex: 45000 entries, 0 to 44999\n",
      "Data columns (total 14 columns):\n",
      " #   Column                          Non-Null Count  Dtype  \n",
      "---  ------                          --------------  -----  \n",
      " 0   person_age                      45000 non-null  float64\n",
      " 1   person_gender                   45000 non-null  object \n",
      " 2   person_education                45000 non-null  object \n",
      " 3   person_income                   42750 non-null  float64\n",
      " 4   person_emp_exp                  45000 non-null  int64  \n",
      " 5   person_home_ownership           45000 non-null  object \n",
      " 6   loan_amnt                       45000 non-null  float64\n",
      " 7   loan_intent                     45000 non-null  object \n",
      " 8   loan_int_rate                   45000 non-null  float64\n",
      " 9   loan_percent_income             45000 non-null  float64\n",
      " 10  cb_person_cred_hist_length      45000 non-null  float64\n",
      " 11  credit_score                    45000 non-null  int64  \n",
      " 12  previous_loan_defaults_on_file  45000 non-null  object \n",
      " 13  loan_status                     45000 non-null  int64  \n",
      "dtypes: float64(6), int64(3), object(5)\n",
      "memory usage: 4.8+ MB\n"
     ]
    }
   ],
   "source": [
    "#melihat  overview dataframe\n",
    "df.info()"
   ]
  },
  {
   "cell_type": "code",
   "execution_count": null,
   "id": "053e78f7",
   "metadata": {},
   "outputs": [
    {
     "name": "stdout",
     "output_type": "stream",
     "text": [
      "Unique values in 'person_age':\n",
      "[ 22.  21.  25.  23.  24.  26. 144. 123.  20.  32.  34.  29.  33.  28.\n",
      "  35.  31.  27.  30.  36.  40.  50.  45.  37.  39.  44.  43.  41.  46.\n",
      "  38.  47.  42.  48.  49.  58.  65.  51.  53.  66.  61.  54.  57.  59.\n",
      "  62.  60.  55.  52.  64.  70.  78.  69.  56.  73.  63.  94.  80.  84.\n",
      "  76.  67. 116. 109.]\n",
      "----------------------------------------\n",
      "Unique values in 'person_gender':\n",
      "['female' 'male' 'Male' 'fe male']\n",
      "----------------------------------------\n",
      "Unique values in 'person_education':\n",
      "['Master' 'High School' 'Bachelor' 'Associate' 'Doctorate']\n",
      "----------------------------------------\n",
      "Unique values in 'person_income':\n",
      "[71948. 12282. 12438. ... 31924. 56942. 33164.]\n",
      "----------------------------------------\n",
      "Unique values in 'person_emp_exp':\n",
      "[  0   3   1   5   4   2   7   6 125   8 121 101 100  12  10   9  14  13\n",
      "  11  15  16  17  19  28  25  18  24  22  20  23  21  31  26  27  29  32\n",
      "  30 124  40  43  33  44  34  42  37  45  36  41  47  38  39  35  57  46\n",
      "  49  48  50  76  62  61  58  93  85]\n",
      "----------------------------------------\n",
      "Unique values in 'person_home_ownership':\n",
      "['RENT' 'OWN' 'MORTGAGE' 'OTHER']\n",
      "----------------------------------------\n",
      "Unique values in 'loan_amnt':\n",
      "[35000.  1000.  5500. ... 12229.  2771.  6665.]\n",
      "----------------------------------------\n",
      "Unique values in 'loan_intent':\n",
      "['PERSONAL' 'EDUCATION' 'MEDICAL' 'VENTURE' 'HOMEIMPROVEMENT'\n",
      " 'DEBTCONSOLIDATION']\n",
      "----------------------------------------\n",
      "Unique values in 'loan_int_rate':\n",
      "[16.02 11.14 12.87 ... 19.11 19.8  16.92]\n",
      "----------------------------------------\n",
      "Unique values in 'loan_percent_income':\n",
      "[0.49 0.08 0.44 0.53 0.19 0.37 0.35 0.13 0.34 0.3  0.27 0.25 0.05 0.24\n",
      " 0.31 0.26 0.12 0.18 0.21 0.43 0.11 0.4  0.32 0.1  0.41 0.22 0.07 0.02\n",
      " 0.17 0.51 0.38 0.33 0.06 0.03 0.28 0.04 0.09 0.2  0.23 0.15 0.48 0.5\n",
      " 0.14 0.42 0.01 0.46 0.29 0.39 0.36 0.16 0.   0.57 0.45 0.52 0.55 0.61\n",
      " 0.62 0.66 0.54 0.47 0.56 0.58 0.63 0.59]\n",
      "----------------------------------------\n",
      "Unique values in 'cb_person_cred_hist_length':\n",
      "[ 3.  2.  4.  8.  7.  6.  9. 10.  5. 11. 16. 15. 12. 13. 17. 14. 25. 28.\n",
      " 27. 22. 19. 29. 23. 26. 20. 21. 30. 24. 18.]\n",
      "----------------------------------------\n",
      "Unique values in 'credit_score':\n",
      "[561 504 635 675 586 532 701 585 544 640 621 651 573 708 583 670 663 694\n",
      " 709 679 684 662 691 600 654 626 607 700 553 589 681 567 669 606 582 649\n",
      " 602 616 631 637 695 620 622 645 624 570 648 652 559 623 609 579 688 661\n",
      " 562 664 564 598 557 677 690 599 604 601 634 671 789 538 587 683 518 617\n",
      " 668 673 706 536 689 595 584 642 614 597 625 603 643 508 505 593 686 646\n",
      " 697 615 687 650 588 658 531 665 703 594 618 574 577 653 630 660 639 612\n",
      " 628 592 580 678 672 613 566 718 484 699 656 659 636 554 807 578 674 608\n",
      " 569 629 560 548 667 676 581 655 551 529 666 576 633 611 657 647 542 692\n",
      " 545 540 525 537 641 539 563 712 491 590 572 528 638 627 596 547 507 565\n",
      " 693 522 632 556 499 704 503 714 552 555 558 521 605 571 591 719 610 535\n",
      " 644 523 546 702 711 534 805 682 447 725 680 568 524 710 707 619 460 696\n",
      " 527 511 477 575 496 685 476 502 541 722 506 487 530 515 513 520 724 514\n",
      " 501 549 720 486 716 465 509 517 444 482 698 443 512 526 454 550 462 717\n",
      " 727 715 543 448 713 721 481 723 533 705 483 740 495 459 489 519 494 498\n",
      " 488 468 490 479 510 472 480 421 473 500 493 441 485 450 467 461 475 463\n",
      " 728 735 458 456 726 729 750 455 478 453 445 431 737 497 492 437 516 451\n",
      " 434 435 439 466 440 449 469 471 730 470 734 751 739 736 738 733 732 731\n",
      " 741 748 744 762 742 745 743 464 390 755 747 759 746 756 753 764 850 760\n",
      " 754 770 784 773 765 772 419 474 430 418 420 792 768 457 446 767]\n",
      "----------------------------------------\n",
      "Unique values in 'previous_loan_defaults_on_file':\n",
      "['No' 'Yes']\n",
      "----------------------------------------\n",
      "Unique values in 'loan_status':\n",
      "[1 0]\n",
      "----------------------------------------\n"
     ]
    }
   ],
   "source": [
    "# Print semua kolom unique value \n",
    "for column in df.columns:\n",
    "    print(f\"Unique values in '{column}':\")\n",
    "    print(df[column].unique())\n",
    "    print(\"-\" * 40)"
   ]
  },
  {
   "cell_type": "code",
   "execution_count": 26,
   "id": "eaa558cd",
   "metadata": {},
   "outputs": [],
   "source": [
    "# 3. Preprocessing\n",
    "\n",
    "# Imputasi nilai yang hilang\n",
    "df['person_income'].fillna(df['person_income'].median(), inplace=True)\n"
   ]
  },
  {
   "cell_type": "code",
   "execution_count": 27,
   "id": "164d3f5a",
   "metadata": {},
   "outputs": [],
   "source": [
    "# Normalisasi gender\n",
    "df['person_gender'] = df['person_gender'].str.lower().str.replace(' ', '')  # jadi 'female', 'male', 'female' (dari 'fe male')"
   ]
  },
  {
   "cell_type": "code",
   "execution_count": 28,
   "id": "bc9d3575",
   "metadata": {},
   "outputs": [],
   "source": [
    "# Drop duplikat\n",
    "df.drop_duplicates(inplace=True)"
   ]
  },
  {
   "cell_type": "code",
   "execution_count": 29,
   "id": "b7a3e534",
   "metadata": {},
   "outputs": [],
   "source": [
    "# Hilangkan outlier menggunakan Z-score\n",
    "numerical_cols = df.select_dtypes(include=['int64', 'float64']).columns\n",
    "z_scores = np.abs(zscore(df[numerical_cols]))\n",
    "df = df[(z_scores < 3).all(axis=1)]"
   ]
  },
  {
   "cell_type": "code",
   "execution_count": 30,
   "id": "dc5282f1",
   "metadata": {},
   "outputs": [],
   "source": [
    "# Label encoding kolom kategorikal\n",
    "categorical_cols = df.select_dtypes(include=['object']).columns\n",
    "label_encoders = {}\n",
    "for col in categorical_cols:\n",
    "    le = LabelEncoder()\n",
    "    df[col] = le.fit_transform(df[col])\n",
    "    label_encoders[col] = le\n"
   ]
  },
  {
   "cell_type": "code",
   "execution_count": 31,
   "id": "ce519fcd",
   "metadata": {},
   "outputs": [],
   "source": [
    "# Pisahkan fitur dan target\n",
    "X = df.drop('loan_status', axis=1)\n",
    "y = df['loan_status']"
   ]
  },
  {
   "cell_type": "code",
   "execution_count": 32,
   "id": "95c4bef4",
   "metadata": {},
   "outputs": [],
   "source": [
    "# Standardisasi fitur numerik\n",
    "scaler = StandardScaler()\n",
    "X_scaled = scaler.fit_transform(X)"
   ]
  },
  {
   "cell_type": "code",
   "execution_count": 33,
   "id": "16483e3a",
   "metadata": {},
   "outputs": [],
   "source": [
    "# Split data\n",
    "X_train, X_test, y_train, y_test = train_test_split(X_scaled, y, test_size=0.2, random_state=42, stratify=y)"
   ]
  },
  {
   "cell_type": "code",
   "execution_count": null,
   "id": "ed92824f",
   "metadata": {},
   "outputs": [
    {
     "name": "stdout",
     "output_type": "stream",
     "text": [
      "Fitting 3 folds for each of 625 candidates, totalling 1875 fits\n",
      "Random Forest Best Params: {'max_depth': None, 'min_samples_leaf': 1, 'min_samples_split': 3, 'n_estimators': 150}\n",
      "Random Forest Accuracy: 0.9204119850187266\n",
      "              precision    recall  f1-score   support\n",
      "\n",
      "           0       0.93      0.97      0.95      6703\n",
      "           1       0.86      0.75      0.80      1841\n",
      "\n",
      "    accuracy                           0.92      8544\n",
      "   macro avg       0.90      0.86      0.88      8544\n",
      "weighted avg       0.92      0.92      0.92      8544\n",
      "\n"
     ]
    }
   ],
   "source": [
    "# Grid Search untuk Random Forest\n",
    "param_grid = {\n",
    "    'n_estimators': [50,100,150, 200,250],\n",
    "    'max_depth': [5, 10, 15,20 ,None],\n",
    "    'min_samples_split': [2, 3,4,5, 10],\n",
    "    'min_samples_leaf': [1, 2,3,4,5]\n",
    "}\n",
    "\n",
    "rf = RandomForestClassifier(random_state=42)\n",
    "grid_rf = GridSearchCV(estimator=rf, param_grid=param_grid, cv=3, scoring='accuracy', verbose=1, n_jobs=-1)\n",
    "grid_rf.fit(X_train, y_train)\n",
    "\n",
    "print(\"Random Forest Best Params:\", grid_rf.best_params_)\n",
    "rf_best = grid_rf.best_estimator_\n",
    "rf_pred = rf_best.predict(X_test)\n",
    "\n",
    "print(\"Random Forest Accuracy:\", accuracy_score(y_test, rf_pred))\n",
    "print(classification_report(y_test, rf_pred))\n"
   ]
  },
  {
   "cell_type": "code",
   "execution_count": null,
   "id": "6675740b",
   "metadata": {},
   "outputs": [
    {
     "name": "stdout",
     "output_type": "stream",
     "text": [
      "Fitting 3 folds for each of 300 candidates, totalling 900 fits\n"
     ]
    },
    {
     "name": "stdout",
     "output_type": "stream",
     "text": [
      "XGBoost Best Params: {'learning_rate': 0.1, 'max_depth': 6, 'n_estimators': 200, 'subsample': 0.8}\n",
      "XGBoost Accuracy: 0.9286048689138576\n",
      "              precision    recall  f1-score   support\n",
      "\n",
      "           0       0.94      0.97      0.96      6703\n",
      "           1       0.88      0.77      0.82      1841\n",
      "\n",
      "    accuracy                           0.93      8544\n",
      "   macro avg       0.91      0.87      0.89      8544\n",
      "weighted avg       0.93      0.93      0.93      8544\n",
      "\n"
     ]
    }
   ],
   "source": [
    "# Grid Search untuk XGBoost\n",
    "grid_xgb = {\n",
    "    'n_estimators': [50,100, 150,200,250],\n",
    "    'max_depth': [3, 6, 10,15 ],\n",
    "    'learning_rate': [0.01, 0.05, 0.1, 0.5,1],\n",
    "    'subsample': [0.75, 0.8, 1.0]\n",
    "}\n",
    "\n",
    "xgb = XGBClassifier(use_label_encoder=False, eval_metric='logloss', random_state=42)\n",
    "grid_xgb = GridSearchCV(estimator=xgb, param_grid=grid_xgb, cv=3, scoring='accuracy', verbose=1, n_jobs=-1)\n",
    "grid_xgb.fit(X_train, y_train)\n",
    "\n",
    "print(\"XGBoost Best Params:\", grid_xgb.best_params_)\n",
    "xgb_best = grid_xgb.best_estimator_\n",
    "xgb_pred = xgb_best.predict(X_test)\n",
    "\n",
    "print(\"XGBoost Accuracy:\", accuracy_score(y_test, xgb_pred))\n",
    "print(classification_report(y_test, xgb_pred))\n"
   ]
  },
  {
   "cell_type": "code",
   "execution_count": 36,
   "id": "bb4616ac",
   "metadata": {},
   "outputs": [
    {
     "name": "stdout",
     "output_type": "stream",
     "text": [
      "\n",
      "Model terbaik adalah XGBoost dengan akurasi 0.9286048689138576\n"
     ]
    }
   ],
   "source": [
    "# Bandingkan akurasi\n",
    "acc_rf = accuracy_score(y_test, rf_pred)\n",
    "acc_xgb = accuracy_score(y_test, xgb_pred)\n",
    "\n",
    "if acc_xgb > acc_rf:\n",
    "    best_model = xgb_best\n",
    "    best_name = \"XGBoost\"\n",
    "else:\n",
    "    best_model = rf_best\n",
    "    best_name = \"RandomForest\"\n",
    "\n",
    "print(f\"\\nModel terbaik adalah {best_name} dengan akurasi {max(acc_rf, acc_xgb)}\")\n"
   ]
  },
  {
   "cell_type": "code",
   "execution_count": null,
   "id": "e0fdeb92",
   "metadata": {},
   "outputs": [],
   "source": [
    "#menyimpan model terbaik ke dalam pickle\n",
    "import pickle\n",
    "\n",
    "with open(\"best_model.pkl\", \"wb\") as f:\n",
    "    pickle.dump(best_model, f)\n"
   ]
  }
 ],
 "metadata": {
  "kernelspec": {
   "display_name": "base",
   "language": "python",
   "name": "python3"
  },
  "language_info": {
   "codemirror_mode": {
    "name": "ipython",
    "version": 3
   },
   "file_extension": ".py",
   "mimetype": "text/x-python",
   "name": "python",
   "nbconvert_exporter": "python",
   "pygments_lexer": "ipython3",
   "version": "3.12.4"
  }
 },
 "nbformat": 4,
 "nbformat_minor": 5
}
